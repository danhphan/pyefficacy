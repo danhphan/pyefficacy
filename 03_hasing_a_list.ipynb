{
 "cells": [
  {
   "cell_type": "code",
   "execution_count": null,
   "id": "polished-hacker",
   "metadata": {},
   "outputs": [],
   "source": [
    "# [].__hash__()"
   ]
  },
  {
   "cell_type": "code",
   "execution_count": null,
   "id": "latin-jumping",
   "metadata": {},
   "outputs": [],
   "source": []
  }
 ],
 "metadata": {
  "kernelspec": {
   "display_name": "Python 3",
   "language": "python",
   "name": "python3"
  }
 },
 "nbformat": 4,
 "nbformat_minor": 5
}
