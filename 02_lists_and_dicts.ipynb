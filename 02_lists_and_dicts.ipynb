{
 "cells": [
  {
   "cell_type": "code",
   "execution_count": null,
   "metadata": {},
   "outputs": [],
   "source": [
    "# default_exp lists_and_dicts"
   ]
  },
  {
   "cell_type": "markdown",
   "metadata": {},
   "source": [
    "# lists and dicts\n",
    "\n",
    "> API details."
   ]
  },
  {
   "cell_type": "code",
   "execution_count": null,
   "metadata": {},
   "outputs": [],
   "source": [
    "#hide\n",
    "from nbdev.showdoc import *"
   ]
  },
  {
   "cell_type": "markdown",
   "metadata": {},
   "source": [
    "### Slice sequences"
   ]
  },
  {
   "cell_type": "code",
   "execution_count": null,
   "metadata": {},
   "outputs": [
    {
     "name": "stdout",
     "output_type": "stream",
     "text": [
      "Middle two:  ['d', 'e']\n",
      "All but end:  ['a', 'b', 'c', 'd', 'e', 'f', 'g']\n"
     ]
    }
   ],
   "source": [
    "a = ['a', 'b', 'c', 'd', 'e', 'f', 'g', 'h']\n",
    "print('Middle two: ', a[3:5])\n",
    "print('All but end: ', a[:-1])"
   ]
  },
  {
   "cell_type": "code",
   "execution_count": null,
   "metadata": {},
   "outputs": [],
   "source": [
    "assert a[:5] == a[0:5] # Should leave out zero index\n",
    "assert a[5:] == a[5:len(a)] # Should leave out the final index"
   ]
  },
  {
   "cell_type": "code",
   "execution_count": null,
   "metadata": {},
   "outputs": [
    {
     "data": {
      "text/plain": [
       "(['a', 'b', 'c', 'd', 'e', 'f', 'g', 'h'], 8)"
      ]
     },
     "execution_count": null,
     "metadata": {},
     "output_type": "execute_result"
    }
   ],
   "source": [
    "first_twenty_items = a[:20]\n",
    "first_twenty_items, len(first_twenty_items)"
   ]
  },
  {
   "cell_type": "code",
   "execution_count": null,
   "metadata": {},
   "outputs": [
    {
     "data": {
      "text/plain": [
       "(['a', 'b', 'c', 'd', 'e', 'f', 'g', 'h'], 8)"
      ]
     },
     "execution_count": null,
     "metadata": {},
     "output_type": "execute_result"
    }
   ],
   "source": [
    "# This work\n",
    "last_twenty_items = a[-20:]\n",
    "last_twenty_items, len(last_twenty_items)\n",
    "# But direct index will show error\n",
    "# a[20] # IndexError: list index out of range"
   ]
  },
  {
   "cell_type": "code",
   "execution_count": null,
   "metadata": {},
   "outputs": [
    {
     "name": "stdout",
     "output_type": "stream",
     "text": [
      "b ['d', 'e', 'f', 'g', 'h']\n",
      "a ['a', 'b', 'c', 'd', 'e', 'f', 'g', 'h']\n",
      "b ['d', 100, 'f', 'g', 'h']\n",
      "a ['a', 'b', 'c', 'd', 'e', 'f', 'g', 'h']\n"
     ]
    }
   ],
   "source": [
    "# Slicing give a whole new list\n",
    "b = a[3:]\n",
    "print('b', b)\n",
    "print('a', a)\n",
    "b[1] = 100\n",
    "print('b', b)\n",
    "print('a', a)"
   ]
  },
  {
   "cell_type": "code",
   "execution_count": null,
   "metadata": {},
   "outputs": [],
   "source": [
    "# Copy the original list\n",
    "b = a[:]\n",
    "assert b == a\n",
    "assert b is not a"
   ]
  },
  {
   "cell_type": "code",
   "execution_count": null,
   "metadata": {},
   "outputs": [
    {
     "data": {
      "text/plain": [
       "(139689729223168, 139689729223168, 139689728128336)"
      ]
     },
     "execution_count": null,
     "metadata": {},
     "output_type": "execute_result"
    }
   ],
   "source": [
    "# Different between slicing and copy\n",
    "a1 = a\n",
    "a2 = a[:]\n",
    "assert a1 == a and a2 == a\n",
    "id(a), id(a1), id(a2)"
   ]
  },
  {
   "cell_type": "code",
   "execution_count": null,
   "metadata": {},
   "outputs": [],
   "source": [
    "assert a1 is a\n",
    "assert a2 is not a"
   ]
  },
  {
   "cell_type": "code",
   "execution_count": null,
   "metadata": {},
   "outputs": [
    {
     "name": "stdout",
     "output_type": "stream",
     "text": [
      "b ['a', 'b', 'c', 'd', 'e', 'f', 'g', 'h']\n",
      "a ['a', 'b', 'c', 'd', 'e', 'f', 'g', 'h']\n",
      "b ['a', 'b', 'c', 'd', 'e', 'f', 'g', 'h']\n",
      "a [100, 103, 105]\n"
     ]
    }
   ],
   "source": [
    "b = a\n",
    "print('b', b)\n",
    "print('a', a)\n",
    "a = [100,103, 105]\n",
    "print('b', b)\n",
    "print('a', a)"
   ]
  },
  {
   "cell_type": "code",
   "execution_count": null,
   "metadata": {},
   "outputs": [
    {
     "name": "stdout",
     "output_type": "stream",
     "text": [
      "b [100, 103, 105]\n",
      "a [100, 103, 105]\n",
      "b ['a', 'b']\n",
      "a ['a', 'b']\n"
     ]
    }
   ],
   "source": [
    "b = a\n",
    "print('b', b)\n",
    "print('a', a)\n",
    "a[:] = ['a','b']\n",
    "print('b', b)\n",
    "print('a', a)"
   ]
  },
  {
   "cell_type": "code",
   "execution_count": null,
   "metadata": {},
   "outputs": [],
   "source": []
  },
  {
   "cell_type": "code",
   "execution_count": null,
   "metadata": {},
   "outputs": [],
   "source": []
  }
 ],
 "metadata": {
  "kernelspec": {
   "display_name": "Python 3",
   "language": "python",
   "name": "python3"
  }
 },
 "nbformat": 4,
 "nbformat_minor": 2
}
